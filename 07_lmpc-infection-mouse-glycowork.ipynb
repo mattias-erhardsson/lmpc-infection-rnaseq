{
 "cells": [
  {
   "cell_type": "markdown",
   "id": "5b720a44-55a7-4f14-b7ec-7853599af728",
   "metadata": {},
   "source": [
    "First importing modules"
   ]
  },
  {
   "cell_type": "code",
   "execution_count": 1,
   "id": "5b0ab44c-7de3-4dc7-9992-d8bdbc502e7a",
   "metadata": {
    "tags": []
   },
   "outputs": [],
   "source": [
    "from glycowork.motif.draw import GlycoDraw\n",
    "from glycowork.motif.processing import canonicalize_iupac\n",
    "from glycowork.motif.draw import plot_glycans_excel\n",
    "from glycowork.motif.analysis import get_heatmap\n",
    "from glycowork.motif.draw import annotate_figure\n",
    "from glycowork.motif.analysis import get_differential_expression\n",
    "from glycowork.motif.analysis import get_pca\n",
    "from glycowork.motif.analysis import get_volcano\n",
    "from glycowork.motif.annotate import quantify_motifs\n",
    "from glycowork.motif.annotate import annotate_dataset\n",
    "from glycowork.network.biosynthesis import *\n",
    "import pandas as pd"
   ]
  },
  {
   "cell_type": "code",
   "execution_count": 2,
   "id": "ba04dd5d",
   "metadata": {
    "tags": []
   },
   "outputs": [
    {
     "data": {
      "text/plain": [
       "'C:\\\\Users\\\\xerhma\\\\Documents\\\\lmpc-infection-rnaseq'"
      ]
     },
     "execution_count": 2,
     "metadata": {},
     "output_type": "execute_result"
    }
   ],
   "source": [
    "pwd()"
   ]
  },
  {
   "cell_type": "markdown",
   "id": "51425352-ac6d-4d3c-a11b-b4111171b7ec",
   "metadata": {},
   "source": [
    "Loading input data"
   ]
  },
  {
   "cell_type": "code",
   "execution_count": 3,
   "id": "dd55e669-5a0f-4ba8-b19b-f30aee291026",
   "metadata": {
    "tags": []
   },
   "outputs": [],
   "source": [
    "df_canonicalized_mouse_all = pd.read_csv(\".\\\\Python_input_files\\\\df_canonicalized_mouse_all.tsv\", sep='\\t', dtype={'Glycan_ID': str})\n",
    "df_canonicalized_mouse_minimal_glycan_col_all = pd.read_csv(\".\\\\Python_input_files\\\\df_canonicalized_mouse_minimal_glycan_col_all.tsv\", sep='\\t')\n",
    "df_canonicalized_mouse_minimal_glycan_col_all.set_index(df_canonicalized_mouse_minimal_glycan_col_all.columns[0], inplace=True)\n",
    "df_canonicalized_mouse_minimal_sample_col_all = pd.read_csv(\".\\\\Python_input_files\\\\df_canonicalized_mouse_minimal_sample_col_all.tsv\", sep='\\t')\n",
    "#df_canonicalized_mouse_minimal_sample_col_all.set_index(df_canonicalized_mouse_minimal_sample_col_all.columns[0], inplace=True)\n",
    "mouse_sample_metadata_all = pd.read_csv(\".\\\\Python_input_files\\\\mouse_sample_metadata_all.tsv\", sep='\\t')\n",
    "#mouse_infected_vehicle_sample_names = pd.read_csv(\".\\\\Python_input_files\\\\mouse_infected_vehicle_sample_names.tsv\", sep='\\t')\n",
    "#mouse_infected_vehicle_sample_names = mouse_infected_vehicle_sample_names.iloc[:, 0].tolist()\n",
    "#mouse_uninfected_vehicle_sample_names = pd.read_csv(\".\\\\Python_input_files\\\\mouse_uninfected_vehicle_sample_names.tsv\", sep='\\t')\n",
    "#mouse_uninfected_vehicle_sample_names = mouse_uninfected_vehicle_sample_names.iloc[:, 0].tolist()"
   ]
  },
  {
   "cell_type": "code",
   "execution_count": 4,
   "id": "9a5c17bd-6078-4587-ac7c-53dce86fe5c9",
   "metadata": {},
   "outputs": [],
   "source": [
    "# Lists of group ids\n",
    "group_sham_infected_ids = mouse_sample_metadata_all[mouse_sample_metadata_all['Group'] == 'ShamInfected']['id'].tolist()\n",
    "group_hpylori_infected_ids = mouse_sample_metadata_all[mouse_sample_metadata_all['Group'] == 'HpyloriInfected']['id'].tolist()\n",
    "cohort_G1_ids = mouse_sample_metadata_all[mouse_sample_metadata_all['Cohort'] == 'G1']['id'].tolist()\n",
    "cohort_G2_ids = mouse_sample_metadata_all[mouse_sample_metadata_all['Cohort'] == 'G2']['id'].tolist()"
   ]
  },
  {
   "cell_type": "markdown",
   "id": "5ec27ae4-d45c-4310-ade4-dd94b1f2f43e",
   "metadata": {},
   "source": [
    "Drawing SNFG figures"
   ]
  },
  {
   "cell_type": "code",
   "execution_count": 5,
   "id": "79450d95-2e60-4687-b149-b9b931e8b9ba",
   "metadata": {
    "tags": []
   },
   "outputs": [],
   "source": [
    "# Function to apply GlycoDraw to each mouse glycan structure string and save the resulting file as pdf\n",
    "def draw_glycan_mouse(row):\n",
    "    structure = row['Canonicalized_Structure']\n",
    "    glycan_id = row['Glycan_ID']\n",
    "    # Define the output file path\n",
    "    output_file = f\".\\\\Python_output_files\\\\Glycan_SNFG\\\\{glycan_id}_{structure}.pdf\"\n",
    "    # Draw the glycan structure\n",
    "    GlycoDraw(structure, filepath=output_file)"
   ]
  },
  {
   "cell_type": "code",
   "execution_count": 6,
   "id": "c9ef68e2-5adf-425a-9f08-bad678a4d427",
   "metadata": {
    "tags": []
   },
   "outputs": [
    {
     "data": {
      "text/plain": [
       "0     None\n",
       "1     None\n",
       "2     None\n",
       "3     None\n",
       "4     None\n",
       "      ... \n",
       "95    None\n",
       "96    None\n",
       "97    None\n",
       "98    None\n",
       "99    None\n",
       "Length: 100, dtype: object"
      ]
     },
     "execution_count": 6,
     "metadata": {},
     "output_type": "execute_result"
    }
   ],
   "source": [
    "# Apply the function to each row in the DataFrame for mouse glycans\n",
    "# All samples\n",
    "df_canonicalized_mouse_all.apply(draw_glycan_mouse, axis=1)"
   ]
  },
  {
   "cell_type": "code",
   "execution_count": 7,
   "id": "e268078d-5abe-4326-9e6d-5e18d61d04a9",
   "metadata": {
    "tags": []
   },
   "outputs": [],
   "source": [
    "# Mouse glycans excel with SNFG column\n",
    "# All samples\n",
    "plot_glycans_excel(df = df_canonicalized_mouse_all,\n",
    "                  folder_filepath = \".\\\\Python_output_files\\\\Tables\",\n",
    "                  glycan_col_num = 2)"
   ]
  },
  {
   "cell_type": "markdown",
   "id": "c8b78520-63f0-454d-9efc-0e9babb8228d",
   "metadata": {},
   "source": [
    "Glycan exploration, for example heatmaps and PCA"
   ]
  },
  {
   "cell_type": "code",
   "execution_count": 8,
   "id": "f1aaf368-2bdc-4b07-b5a8-8e6d78d2243b",
   "metadata": {},
   "outputs": [
    {
     "name": "stdout",
     "output_type": "stream",
     "text": [
      "                                               glycan      G1-1      G1-2  \\\n",
      "0                                     Gal(b1-3)GalNAc  0.242959  0.208267   \n",
      "1                                   GalOS(b1-3)GalNAc  0.007172  0.012267   \n",
      "2                          Gal(b1-3)[Fuc(a1-?)]GalNAc  0.140820  0.183320   \n",
      "3                            Fuc(a1-2)Gal(b1-3)GalNAc  1.811925  1.782675   \n",
      "4                       Fuc(a1-?)[HexNAc(?1-?)]GalNAc  0.098392  0.079560   \n",
      "..                                                ...       ...       ...   \n",
      "95  Neu5Ac(a2-?)Gal(?1-?)GlcNAc(b1-3)Gal(b1-4)GlcN...  0.137300  0.125417   \n",
      "96  Neu5Ac(a2-?)HexNAc(?1-?)GlcNAc(b1-2)Man(a1-3)[...  0.510790  0.000000   \n",
      "97  Neu5Ac(a2-?)Gal(?1-?)GlcNAc(b1-2)Man(a1-3)[Neu...  0.005985  0.019840   \n",
      "98  Neu5Ac(a2-?)Gal(?1-?)GlcNAc(b1-3)Gal(?1-?)GlcN...  0.218813  0.000000   \n",
      "99  Fuc(a1-2)Gal(?1-?)GlcNAc(b1-3)Gal(?1-?)GlcNAc(...  0.005644  0.024738   \n",
      "\n",
      "        G1-3      G1-4      G1-5      G1-6      G1-7      G1-8      G2-1  \\\n",
      "0   0.223529  0.245893  0.297072  0.180748  0.248927  0.306004  0.270822   \n",
      "1   0.017346  0.004030  0.006302  0.012039  0.005054  0.005923  0.004756   \n",
      "2   0.182716  0.202931  0.160700  0.142861  0.140595  0.169863  0.181096   \n",
      "3   1.249882  1.189128  1.395655  1.654731  1.410926  1.459425  1.015629   \n",
      "4   0.063288  0.047380  0.050811  0.087161  0.076107  0.078545  0.074231   \n",
      "..       ...       ...       ...       ...       ...       ...       ...   \n",
      "95  0.212273  0.172774  0.290563  0.171707  0.161128  0.136903  0.153043   \n",
      "96  0.000000  0.000000  0.476354  0.644741  0.562495  0.527933  0.002343   \n",
      "97  0.000000  0.000000  0.414066  0.122290  0.017085  0.016357  0.000000   \n",
      "98  0.189359  0.000000  0.000000  0.000000  0.213511  0.165189  0.279277   \n",
      "99  0.018615  0.036514  0.000000  0.068677  0.057054  0.000000  0.210897   \n",
      "\n",
      "        G2-2      G2-3      G2-4      G2-5      G2-6      G2-7      G2-8  \n",
      "0   0.240446  0.189056  0.236583  0.246200  0.249818  0.214796  0.203260  \n",
      "1   0.033161  0.029960  0.019615  0.301310  0.014480  0.014660  0.016895  \n",
      "2   0.134315  0.156786  0.131543  0.141911  0.148975  0.124810  0.166304  \n",
      "3   1.678676  1.255519  1.490075  2.425317  1.707860  1.611117  1.288564  \n",
      "4   0.066081  0.065791  0.079617  0.068992  0.060207  0.059021  0.087315  \n",
      "..       ...       ...       ...       ...       ...       ...       ...  \n",
      "95  0.017136  0.172082  0.152739  0.235781  0.000000  0.016032  0.199322  \n",
      "96  0.000000  0.000000  0.688642  0.000000  0.310112  0.395042  0.551131  \n",
      "97  0.000000  0.002711  0.020294  0.615505  0.000000  0.000000  0.280082  \n",
      "98  0.000000  0.000000  0.119615  0.018581  0.000000  0.000000  0.000000  \n",
      "99  0.000000  0.000000  0.010321  0.071086  0.000000  0.000000  0.064305  \n",
      "\n",
      "[100 rows x 17 columns]\n"
     ]
    }
   ],
   "source": [
    "print(df_canonicalized_mouse_minimal_sample_col_all)"
   ]
  },
  {
   "cell_type": "raw",
   "id": "2a2aca55-4bc3-466a-bdbf-ef763af22328",
   "metadata": {},
   "source": [
    "print(df_canonicalized_mouse_minimal_glycan_col_all)"
   ]
  },
  {
   "cell_type": "code",
   "execution_count": 9,
   "id": "96c95f92-f9fb-45de-b496-35e91ca3af73",
   "metadata": {},
   "outputs": [
    {
     "name": "stdout",
     "output_type": "stream",
     "text": [
      "      id            Group Cohort\n",
      "0   G1-1     ShamInfected     G1\n",
      "1   G1-2     ShamInfected     G1\n",
      "2   G1-3     ShamInfected     G1\n",
      "3   G1-4     ShamInfected     G1\n",
      "4   G1-5  HpyloriInfected     G1\n",
      "5   G1-6  HpyloriInfected     G1\n",
      "6   G1-7  HpyloriInfected     G1\n",
      "7   G1-8  HpyloriInfected     G1\n",
      "8   G2-1     ShamInfected     G2\n",
      "9   G2-2     ShamInfected     G2\n",
      "10  G2-3     ShamInfected     G2\n",
      "11  G2-4     ShamInfected     G2\n",
      "12  G2-5  HpyloriInfected     G2\n",
      "13  G2-6  HpyloriInfected     G2\n",
      "14  G2-7  HpyloriInfected     G2\n",
      "15  G2-8  HpyloriInfected     G2\n"
     ]
    }
   ],
   "source": [
    "print(mouse_sample_metadata_all)"
   ]
  },
  {
   "cell_type": "code",
   "execution_count": 10,
   "id": "36a5363c-e316-4b52-9a99-74f454aa424b",
   "metadata": {},
   "outputs": [],
   "source": [
    "group_list = mouse_sample_metadata_all['Group'].tolist()"
   ]
  },
  {
   "cell_type": "code",
   "execution_count": 11,
   "id": "6d5585ee-3677-47b2-8418-01dde4a4c361",
   "metadata": {},
   "outputs": [
    {
     "name": "stdout",
     "output_type": "stream",
     "text": [
      "['ShamInfected', 'ShamInfected', 'ShamInfected', 'ShamInfected', 'HpyloriInfected', 'HpyloriInfected', 'HpyloriInfected', 'HpyloriInfected', 'ShamInfected', 'ShamInfected', 'ShamInfected', 'ShamInfected', 'HpyloriInfected', 'HpyloriInfected', 'HpyloriInfected', 'HpyloriInfected']\n"
     ]
    }
   ],
   "source": [
    "print(group_list)"
   ]
  },
  {
   "cell_type": "code",
   "execution_count": 12,
   "id": "2b8d1a29-a7ed-4369-8717-0e0dc3df069a",
   "metadata": {},
   "outputs": [],
   "source": [
    "cohort_list = mouse_sample_metadata_all['Cohort'].tolist()"
   ]
  },
  {
   "cell_type": "code",
   "execution_count": 13,
   "id": "0b06a16a-f07a-4137-a29c-737c091d7cdd",
   "metadata": {},
   "outputs": [
    {
     "name": "stdout",
     "output_type": "stream",
     "text": [
      "['G1', 'G1', 'G1', 'G1', 'G1', 'G1', 'G1', 'G1', 'G2', 'G2', 'G2', 'G2', 'G2', 'G2', 'G2', 'G2']\n"
     ]
    }
   ],
   "source": [
    "print(cohort_list)"
   ]
  },
  {
   "cell_type": "code",
   "execution_count": 14,
   "id": "91a0de02-424e-4814-b0bd-78679f757389",
   "metadata": {},
   "outputs": [],
   "source": [
    "## Mouse PCA\n",
    "# With groups and cohorts\n",
    "# Doing this in R instead so that I can combine with k means clustering\n",
    "#get_pca(df = df_canonicalized_mouse_minimal_sample_col_all,\n",
    "#       motifs = True,\n",
    "#        groups = mouse_sample_metadata_all,\n",
    "#        color = 'Group',\n",
    "#        shape = 'Cohort',\n",
    "#       feature_set = ['terminal1',\n",
    "#                      'terminal2',\n",
    "#                      'terminal3'],\n",
    "#       filepath = '.\\\\Python_output_files\\\\Figures\\\\PCA_Glycans_Groups_And_Cohorts.pdf')"
   ]
  },
  {
   "cell_type": "code",
   "execution_count": 15,
   "id": "c41c537e-ddfa-4344-a3d5-c39f0fbc40f8",
   "metadata": {},
   "outputs": [],
   "source": [
    "# Exporting terminal motifs to R\n",
    "quantified_terminal_motifs = quantify_motifs(df = df_canonicalized_mouse_minimal_sample_col_all.iloc[:, 1:], \n",
    "                glycans = df_canonicalized_mouse_minimal_sample_col_all.iloc[:, 0].values.tolist(), \n",
    "                feature_set = ['terminal1',\n",
    "                               'terminal2',\n",
    "                               'terminal3'])\n",
    "\n",
    "quantified_terminal_motifs.to_excel('.\\\\Python_output_files\\\\Tables\\\\quantified_terminal_motifs.xlsx', \n",
    "                                    index=True,\n",
    "                                   index_label = 'Terminal_Motif')"
   ]
  },
  {
   "cell_type": "code",
   "execution_count": 16,
   "id": "718dc0c0-1c29-41c4-ba54-85f0a42bcf9f",
   "metadata": {},
   "outputs": [],
   "source": [
    "# Annotate glycan dataset with terminal motifs\n",
    "glycans_terminal_motifs_annotation = annotate_dataset (glycans = df_canonicalized_mouse_minimal_sample_col_all.iloc[:, 0].values.tolist(), \n",
    "                  motifs=None, \n",
    "                  feature_set=['terminal1',\n",
    "                               'terminal2',\n",
    "                               'terminal3'],\n",
    "                  termini_list=[], \n",
    "                  condense=True, \n",
    "                  custom_motifs=[])\n",
    "\n",
    "glycans_terminal_motifs_annotation.to_excel('.\\\\Python_output_files\\\\Tables\\\\glycans_terminal_motifs_annotation.xlsx', \n",
    "                                    index=True,\n",
    "                                   index_label = 'Canonicalized_Structure')"
   ]
  },
  {
   "cell_type": "code",
   "execution_count": 17,
   "id": "a87772e4-54c4-42be-bfa9-b20610ea95cf",
   "metadata": {},
   "outputs": [],
   "source": [
    "# Prepare annotation to be passed to seaborn.\n",
    "df_heatmap_annotation = mouse_sample_metadata_all.set_index('id')"
   ]
  },
  {
   "cell_type": "code",
   "execution_count": 18,
   "id": "1e547c3c-4dfb-453f-b374-f6fd905d28cf",
   "metadata": {},
   "outputs": [],
   "source": [
    "group_to_color = {\n",
    "    'ShamInfected': '#4DC36B', # Green\n",
    "    'HpyloriInfected': '#440C55', # Purple\n",
    "}\n",
    "\n",
    "cohort_to_color = {\n",
    "    'G1': '#E85311', # Orange\n",
    "    'G2': '#15B8E9', # Blue\n",
    "}"
   ]
  },
  {
   "cell_type": "code",
   "execution_count": 19,
   "id": "01a4f2e9-fa01-41a3-ac96-14271c7a720d",
   "metadata": {},
   "outputs": [],
   "source": [
    "col_colors = pd.DataFrame({\n",
    "    'Group': df_heatmap_annotation['Group'].map(group_to_color),\n",
    "    'Cohort': df_heatmap_annotation['Cohort'].map(cohort_to_color)\n",
    "})"
   ]
  },
  {
   "cell_type": "code",
   "execution_count": 20,
   "id": "8daaa025-2b3f-4456-83e7-df87574e11ee",
   "metadata": {},
   "outputs": [],
   "source": [
    "kwargs = {\n",
    "    'col_colors': col_colors\n",
    "}"
   ]
  },
  {
   "cell_type": "code",
   "execution_count": 21,
   "id": "93729dac-9a20-4032-bb3d-65eeb7e7b47d",
   "metadata": {},
   "outputs": [],
   "source": [
    "# Perform Heatmap\n",
    "# Glycan level\n",
    "# svg\n",
    "get_heatmap(df_canonicalized_mouse_minimal_glycan_col_all, \n",
    "            motifs=False, \n",
    "            transform='', \n",
    "            datatype='response', \n",
    "            rarity_filter=0.05, \n",
    "            filepath='.\\\\Python_output_files\\\\Figures\\\\Heatmap_ID_Glycans.svg', \n",
    "            return_plot=False,\n",
    "            yticklabels = 1,\n",
    "            xticklabels = 1,\n",
    "            figsize=(24,128),\n",
    "            **kwargs)\n",
    "\n",
    "# pdf\n",
    "get_heatmap(df_canonicalized_mouse_minimal_glycan_col_all, \n",
    "            motifs=False, \n",
    "            transform='', \n",
    "            datatype='response', \n",
    "            rarity_filter=0.05, \n",
    "            filepath='.\\\\Python_output_files\\\\Figures\\\\Heatmap_ID_Glycans.pdf', \n",
    "            return_plot=False,\n",
    "            yticklabels = 1,\n",
    "            xticklabels = 1,\n",
    "            figsize=(24,128),\n",
    "            **kwargs)"
   ]
  },
  {
   "cell_type": "code",
   "execution_count": 22,
   "id": "5ec2ceca-4ff9-41cb-9b36-5c5e5e9a6109",
   "metadata": {},
   "outputs": [],
   "source": [
    "# Annotate heatmap with SNFG figures\n",
    "annotate_figure(svg_input = \".\\\\Python_output_files\\\\Figures\\\\Heatmap_ID_Glycans.svg\",\n",
    "                glycan_size = 'small',\n",
    "                filepath = \".\\\\Python_output_files\\\\Figures\\\\Heatmap_Glycans_ID_Annotated.pdf\",\n",
    "                compact = False)"
   ]
  },
  {
   "cell_type": "code",
   "execution_count": 23,
   "id": "04508fe9-299b-4265-9b9e-1c9b5a050243",
   "metadata": {},
   "outputs": [],
   "source": [
    "# Perform Heatmap\n",
    "# Terminal motif level\n",
    "# svg\n",
    "get_heatmap(df_canonicalized_mouse_minimal_glycan_col_all, \n",
    "            motifs=True, \n",
    "            feature_set=['terminal1',\n",
    "                         'terminal2',\n",
    "                         'terminal3'], \n",
    "            transform='', \n",
    "            datatype='response', \n",
    "            rarity_filter=0.05, \n",
    "            filepath='.\\\\Python_output_files\\\\Figures\\\\Heatmap_Motifs_Glycans.svg', \n",
    "            return_plot=False,\n",
    "            yticklabels = 1,\n",
    "            xticklabels = 1,\n",
    "            figsize=(12,32),\n",
    "            **kwargs)\n",
    "\n",
    "# pdf\n",
    "get_heatmap(df_canonicalized_mouse_minimal_glycan_col_all, \n",
    "            motifs=True, \n",
    "            feature_set=['terminal1',\n",
    "                         'terminal2',\n",
    "                         'terminal3'], \n",
    "            transform='', \n",
    "            datatype='response', \n",
    "            rarity_filter=0.05, \n",
    "            filepath='.\\\\Python_output_files\\\\Figures\\\\Heatmap_Motifs_Glycans.pdf', \n",
    "            return_plot=False,\n",
    "            yticklabels = 1,\n",
    "            xticklabels = 1,\n",
    "            figsize=(12,32),\n",
    "            **kwargs)"
   ]
  },
  {
   "cell_type": "code",
   "execution_count": 24,
   "id": "e05eb59b-999a-4164-bab7-4c908b2383d5",
   "metadata": {
    "tags": []
   },
   "outputs": [],
   "source": [
    "# Annotate heatmap with SNFG figures\n",
    "annotate_figure(svg_input = \".\\\\Python_output_files\\\\Figures\\\\Heatmap_Motifs_Glycans.svg\",\n",
    "                glycan_size = 'small',\n",
    "                filepath = \".\\\\Python_output_files\\\\Figures\\\\Heatmap_Glycans_Motifs_Annotated.pdf\",\n",
    "                compact = False)"
   ]
  },
  {
   "cell_type": "code",
   "execution_count": 25,
   "id": "93a51e89-1a79-4cc0-b8c9-3abd7cf73ec0",
   "metadata": {
    "tags": []
   },
   "outputs": [
    {
     "name": "stdout",
     "output_type": "stream",
     "text": [
      "You're working with an alpha of 0.05835541289349022 that has been adjusted for your sample size of 16.\n",
      "                                      Glycan  Mean abundance    Log2FC  \\\n",
      "0       Terminal_GlcNAc(b1-4)Man(b1-4)GlcNAc        0.016727  1.886221   \n",
      "27      Terminal_Fuc(a1-?)GlcNAc(b1-?)GalNAc        0.060284  0.210280   \n",
      "12          Terminal_Fuc(a1-2)[Gal(a1-3)]Gal        0.055133 -0.174166   \n",
      "81                        Terminal_Gal(b1-4)        1.551013 -0.053545   \n",
      "8   Terminal_Gal(b1-3)[GlcNAcOS(b1-6)]GalNAc        0.021078  0.133188   \n",
      "..                                       ...             ...       ...   \n",
      "32            Terminal_Man(a1-2)Man(a1-2)Man        0.185230  0.198314   \n",
      "23            Terminal_Man(a1-2)Man(a1-6)Man        0.103488  0.216220   \n",
      "73                     Terminal_GlcNAc(b1-?)        0.887543 -0.105843   \n",
      "18         Terminal_Gal(?1-?)GlcNAc(b1-?)Man        0.043388 -0.003510   \n",
      "2     Terminal_Gal(b1-3)[Neu5Gc(a2-6)]GalNAc        0.003663 -0.001414   \n",
      "\n",
      "       p-val  corr p-val  significant  corr Levene p-val  Effect size  \\\n",
      "0   0.093401    0.964952        False           0.999807     0.906488   \n",
      "27  0.773999    0.964952        False           0.999807     0.146383   \n",
      "12  0.771484    0.964952        False           0.999807    -0.148304   \n",
      "81  0.770664    0.964952        False           0.999807    -0.149122   \n",
      "8   0.765773    0.964952        False           0.999807     0.152028   \n",
      "..       ...         ...          ...                ...          ...   \n",
      "32  0.547927    0.964952        False           0.999807     0.307955   \n",
      "23  0.515000    0.964952        False           0.999807     0.334164   \n",
      "73  0.502351    0.964952        False           0.999807    -0.344956   \n",
      "18  0.986830    0.997001        False           0.999807    -0.008408   \n",
      "2   0.997001    0.997001        False           0.999807    -0.001916   \n",
      "\n",
      "    Equivalence p-val  \n",
      "0            0.910246  \n",
      "27           0.749240  \n",
      "12           0.749240  \n",
      "81           0.749240  \n",
      "8            0.749240  \n",
      "..                ...  \n",
      "32           0.749240  \n",
      "23           0.749240  \n",
      "73           0.749240  \n",
      "18           0.749240  \n",
      "2            0.749240  \n",
      "\n",
      "[96 rows x 9 columns]\n"
     ]
    }
   ],
   "source": [
    "# Differential glycomics on motif level\n",
    "# Treatment comparison\n",
    "differential_glycomics_treatment_df = get_differential_expression(df = df_canonicalized_mouse_minimal_sample_col_all,\n",
    "                                                                     group1 = group_sham_infected_ids,\n",
    "                                                                     group2 = group_hpylori_infected_ids,\n",
    "                                                                     motifs = True,\n",
    "                                                                     feature_set = ['terminal1', \n",
    "                                                                                    'terminal2',\n",
    "                                                                                    'terminal3'],\n",
    "                                                                     paired = False,\n",
    "                                                                     min_samples = 0.1)\n",
    "print(differential_glycomics_treatment_df)"
   ]
  },
  {
   "cell_type": "code",
   "execution_count": 26,
   "id": "cbefb4c5-a155-43bb-a1a0-069fcbb1dc82",
   "metadata": {},
   "outputs": [
    {
     "name": "stdout",
     "output_type": "stream",
     "text": [
      "You're working with an alpha of 0.05835541289349022 that has been adjusted for your sample size of 16.\n",
      "                                    Glycan  Mean abundance    Log2FC  \\\n",
      "90             Terminal_Fuc(a1-2)Gal(b1-3)        2.446040 -0.487963   \n",
      "3     Terminal_Fuc(a1-3)GlcNAc(b1-6)GalNAc        0.006224 -0.481004   \n",
      "18       Terminal_Gal(?1-?)GlcNAc(b1-?)Man        0.043612 -0.669156   \n",
      "93             Terminal_Fuc(a1-?)Gal(b1-?)       10.573443 -0.553061   \n",
      "89       Terminal_Fuc(a1-2)Gal(b1-3)GalNAc        2.276627 -0.433563   \n",
      "..                                     ...             ...       ...   \n",
      "16  Terminal_Neu5Ac(a2-3)[GalNAc(b1-4)]Gal        0.041198 -0.088939   \n",
      "63    Terminal_GlcNAc(a1-?)Gal(?1-?)GlcNAc        0.930860 -0.098840   \n",
      "0     Terminal_GlcNAc(b1-4)Man(b1-4)GlcNAc        0.013595  0.264891   \n",
      "69                   Terminal_Neu5Ac(a2-?)        1.182488 -0.018648   \n",
      "2   Terminal_Gal(b1-3)[Neu5Gc(a2-6)]GalNAc        0.003683  0.030321   \n",
      "\n",
      "       p-val  corr p-val  significant  corr Levene p-val  Effect size  \\\n",
      "90  0.000668    0.030347         True           0.846336    -2.197037   \n",
      "3   0.000698    0.030347         True           0.851643    -2.162983   \n",
      "18  0.001220    0.032213         True           0.550846    -2.044141   \n",
      "93  0.001957    0.032213         True           0.269100    -1.973821   \n",
      "89  0.002274    0.032213         True           0.300096    -1.999062   \n",
      "..       ...         ...          ...                ...          ...   \n",
      "16  0.736933    0.736933        False           0.263944    -0.172251   \n",
      "63  0.748724    0.748724        False           0.300336    -0.163903   \n",
      "0   0.811223    0.811223        False           0.988801     0.121761   \n",
      "69  0.889038    0.889038        False           0.812964    -0.071044   \n",
      "2   0.934814    0.934814        False           0.230524     0.042074   \n",
      "\n",
      "    Equivalence p-val  \n",
      "90           1.000000  \n",
      "3            1.000000  \n",
      "18           1.000000  \n",
      "93           1.000000  \n",
      "89           1.000000  \n",
      "..                ...  \n",
      "16           0.952134  \n",
      "63           0.952134  \n",
      "0            0.952134  \n",
      "69           0.952134  \n",
      "2            0.952134  \n",
      "\n",
      "[96 rows x 9 columns]\n"
     ]
    }
   ],
   "source": [
    "# Differential glycomics on motif level\n",
    "# Cohort\n",
    "differential_glycomics_cohort_df = get_differential_expression(df = df_canonicalized_mouse_minimal_sample_col_all,\n",
    "                                                                     group1 = cohort_G1_ids,\n",
    "                                                                     group2 = cohort_G2_ids,\n",
    "                                                                     motifs = True,\n",
    "                                                                     feature_set = ['terminal1', \n",
    "                                                                                    'terminal2',\n",
    "                                                                                    'terminal3'],\n",
    "                                                                     paired = False,\n",
    "                                                                     min_samples = 0.1)\n",
    "print(differential_glycomics_cohort_df)"
   ]
  },
  {
   "cell_type": "code",
   "execution_count": 27,
   "id": "c7f3a3b7-2a0b-49f7-872d-a9ad61e79566",
   "metadata": {},
   "outputs": [],
   "source": [
    "differential_glycomics_treatment_df.to_excel('.\\\\Python_output_files\\\\Tables\\\\differential_glycomics_treatment.xlsx', index=False)\n",
    "differential_glycomics_cohort_df.to_excel('.\\\\Python_output_files\\\\Tables\\\\differential_glycomics_cohort.xlsx', index=False)"
   ]
  },
  {
   "cell_type": "code",
   "execution_count": 28,
   "id": "a8958df6-102b-4868-aaf8-4b333cd5b665",
   "metadata": {
    "tags": []
   },
   "outputs": [
    {
     "name": "stdout",
     "output_type": "stream",
     "text": [
      "You're working with a default alpha of 0.05. Set sample size (n = ...) for Bayesian-Adaptive Alpha Adjustment\n"
     ]
    },
    {
     "data": {
      "image/png": "[encoded data removed]",
      "text/plain": [
       "<Figure size 640x480 with 1 Axes>"
      ]
     },
     "metadata": {},
     "output_type": "display_data"
    },
    {
     "name": "stdout",
     "output_type": "stream",
     "text": [
      "You're working with a default alpha of 0.05. Set sample size (n = ...) for Bayesian-Adaptive Alpha Adjustment\n"
     ]
    },
    {
     "data": {
      "image/png": "[encoded data removed]",
      "text/plain": [
       "<Figure size 640x480 with 1 Axes>"
      ]
     },
     "metadata": {},
     "output_type": "display_data"
    }
   ],
   "source": [
    "# Differential glycomics volcano plot\n",
    "get_volcano(differential_glycomics_treatment_df,\n",
    "           annotate_volcano = True,\n",
    "           filepath = '.\\\\Python_output_files\\\\Figures\\\\differential_glycomics_treatment_volcano.svg')\n",
    "# Differential glycomics volcano plot\n",
    "get_volcano(differential_glycomics_cohort_df,\n",
    "           annotate_volcano = True,\n",
    "           filepath = '.\\\\Python_output_files\\\\Figures\\\\differential_glycomics_cohort_volcano.svg')"
   ]
  },
  {
   "cell_type": "code",
   "execution_count": 30,
   "id": "ecc1d532-ec94-425f-9cce-fd94ac39a021",
   "metadata": {},
   "outputs": [],
   "source": [
    "annotate_figure(svg_input = \".\\\\Python_output_files\\\\Figures\\\\differential_glycomics_treatment_volcano.svg\",\n",
    "                glycan_size = 'small',\n",
    "                filepath = \".\\\\Python_output_files\\\\Figures\\\\differential_glycomics_treatment_volcano_Annotated.pdf\",\n",
    "                compact = False)\n",
    "\n",
    "annotate_figure(svg_input = \".\\\\Python_output_files\\\\Figures\\\\differential_glycomics_cohort_volcano.svg\",\n",
    "                glycan_size = 'small',\n",
    "                filepath = \".\\\\Python_output_files\\\\Figures\\\\differential_glycomics_cohort_volcano_Annotated.pdf\",\n",
    "                compact = False)"
   ]
  },
  {
   "cell_type": "code",
   "execution_count": null,
   "id": "094f249b-271a-464b-bcde-ad4584948eab",
   "metadata": {},
   "outputs": [],
   "source": []
  }
 ],
 "metadata": {
  "kernelspec": {
   "display_name": "Python 3 (ipykernel)",
   "language": "python",
   "name": "python3"
  },
  "language_info": {
   "codemirror_mode": {
    "name": "ipython",
    "version": 3
   },
   "file_extension": ".py",
   "mimetype": "text/x-python",
   "name": "python",
   "nbconvert_exporter": "python",
   "pygments_lexer": "ipython3",
   "version": "3.12.3"
  }
 },
 "nbformat": 4,
 "nbformat_minor": 5
}
