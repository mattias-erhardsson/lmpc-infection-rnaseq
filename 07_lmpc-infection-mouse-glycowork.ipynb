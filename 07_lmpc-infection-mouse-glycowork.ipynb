{
 "cells": [
  {
   "cell_type": "markdown",
   "id": "5b720a44-55a7-4f14-b7ec-7853599af728",
   "metadata": {},
   "source": [
    "First importing modules"
   ]
  },
  {
   "cell_type": "code",
   "execution_count": 1,
   "id": "5b0ab44c-7de3-4dc7-9992-d8bdbc502e7a",
   "metadata": {
    "tags": []
   },
   "outputs": [],
   "source": [
    "from glycowork.motif.draw import GlycoDraw\n",
    "from glycowork.motif.processing import canonicalize_iupac\n",
    "from glycowork.motif.draw import plot_glycans_excel\n",
    "from glycowork.motif.analysis import get_heatmap\n",
    "from glycowork.motif.draw import annotate_figure\n",
    "from glycowork.motif.analysis import get_differential_expression\n",
    "from glycowork.motif.analysis import get_pca\n",
    "from glycowork.motif.analysis import get_volcano\n",
    "from glycowork.network.biosynthesis import *\n",
    "import pandas as pd"
   ]
  },
  {
   "cell_type": "code",
   "execution_count": 2,
   "id": "ba04dd5d",
   "metadata": {
    "tags": []
   },
   "outputs": [
    {
     "data": {
      "text/plain": [
       "'C:\\\\lmpc-infection-rnaseq'"
      ]
     },
     "execution_count": 2,
     "metadata": {},
     "output_type": "execute_result"
    }
   ],
   "source": [
    "pwd()"
   ]
  },
  {
   "cell_type": "markdown",
   "id": "51425352-ac6d-4d3c-a11b-b4111171b7ec",
   "metadata": {},
   "source": [
    "Loading input data"
   ]
  },
  {
   "cell_type": "code",
   "execution_count": 3,
   "id": "dd55e669-5a0f-4ba8-b19b-f30aee291026",
   "metadata": {
    "tags": []
   },
   "outputs": [],
   "source": [
    "df_canonicalized_mouse_all = pd.read_csv(\".\\\\Python_input_files\\\\df_canonicalized_mouse_all.tsv\", sep='\\t', dtype={'Glycan_ID': str})\n",
    "df_canonicalized_mouse_minimal_glycan_col_all = pd.read_csv(\".\\\\Python_input_files\\\\df_canonicalized_mouse_minimal_glycan_col_all.tsv\", sep='\\t')\n",
    "df_canonicalized_mouse_minimal_glycan_col_all.set_index(df_canonicalized_mouse_minimal_glycan_col_all.columns[0], inplace=True)\n",
    "df_canonicalized_mouse_minimal_sample_col_all = pd.read_csv(\".\\\\Python_input_files\\\\df_canonicalized_mouse_minimal_sample_col_all.tsv\", sep='\\t')\n",
    "#df_canonicalized_mouse_minimal_sample_col_all.set_index(df_canonicalized_mouse_minimal_sample_col_all.columns[0], inplace=True)\n",
    "mouse_sample_metadata_all = pd.read_csv(\".\\\\Python_input_files\\\\mouse_sample_metadata_all.tsv\", sep='\\t')\n",
    "mouse_infected_vehicle_sample_names = pd.read_csv(\".\\\\Python_input_files\\\\mouse_infected_vehicle_sample_names.tsv\", sep='\\t')\n",
    "mouse_infected_vehicle_sample_names = mouse_infected_vehicle_sample_names.iloc[:, 0].tolist()\n",
    "mouse_uninfected_vehicle_sample_names = pd.read_csv(\".\\\\Python_input_files\\\\mouse_uninfected_vehicle_sample_names.tsv\", sep='\\t')\n",
    "mouse_uninfected_vehicle_sample_names = mouse_uninfected_vehicle_sample_names.iloc[:, 0].tolist()"
   ]
  },
  {
   "cell_type": "markdown",
   "id": "5ec27ae4-d45c-4310-ade4-dd94b1f2f43e",
   "metadata": {},
   "source": [
    "Drawing SNFG figures"
   ]
  },
  {
   "cell_type": "code",
   "execution_count": 4,
   "id": "79450d95-2e60-4687-b149-b9b931e8b9ba",
   "metadata": {
    "tags": []
   },
   "outputs": [],
   "source": [
    "# Function to apply GlycoDraw to each mouse glycan structure string and save the resulting file as pdf\n",
    "def draw_glycan_mouse(row):\n",
    "    structure = row['Canonicalized_Structure']\n",
    "    glycan_id = row['Glycan_ID']\n",
    "    # Define the output file path\n",
    "    output_file = f\".\\\\Python_output_files\\\\Glycan_SNFG\\\\{glycan_id}_{structure}.pdf\"\n",
    "    # Draw the glycan structure\n",
    "    GlycoDraw(structure, filepath=output_file)"
   ]
  },
  {
   "cell_type": "code",
   "execution_count": 5,
   "id": "c9ef68e2-5adf-425a-9f08-bad678a4d427",
   "metadata": {
    "tags": []
   },
   "outputs": [
    {
     "data": {
      "text/plain": [
       "0     None\n",
       "1     None\n",
       "2     None\n",
       "3     None\n",
       "4     None\n",
       "      ... \n",
       "95    None\n",
       "96    None\n",
       "97    None\n",
       "98    None\n",
       "99    None\n",
       "Length: 100, dtype: object"
      ]
     },
     "execution_count": 5,
     "metadata": {},
     "output_type": "execute_result"
    }
   ],
   "source": [
    "# Apply the function to each row in the DataFrame for mouse glycans\n",
    "# All samples\n",
    "df_canonicalized_mouse_all.apply(draw_glycan_mouse, axis=1)"
   ]
  },
  {
   "cell_type": "code",
   "execution_count": 19,
   "id": "e268078d-5abe-4326-9e6d-5e18d61d04a9",
   "metadata": {
    "tags": []
   },
   "outputs": [],
   "source": [
    "# Mouse glycans excel with SNFG column\n",
    "# All samples\n",
    "plot_glycans_excel(df = df_canonicalized_mouse_all,\n",
    "                  folder_filepath = \".\\\\Python_output_files\\\\Tables\",\n",
    "                  glycan_col_num = 2)"
   ]
  },
  {
   "cell_type": "markdown",
   "id": "c8b78520-63f0-454d-9efc-0e9babb8228d",
   "metadata": {},
   "source": [
    "Glycan exploration, for example heatmaps and PCA"
   ]
  },
  {
   "cell_type": "code",
   "execution_count": 6,
   "id": "f1aaf368-2bdc-4b07-b5a8-8e6d78d2243b",
   "metadata": {},
   "outputs": [
    {
     "name": "stdout",
     "output_type": "stream",
     "text": [
      "                                               glycan     H0701     H0702  \\\n",
      "0                                     Gal(b1-3)GalNAc  0.242959  0.208267   \n",
      "1                                   GalOS(b1-3)GalNAc  0.007172  0.012267   \n",
      "2                          Gal(b1-3)[Fuc(a1-?)]GalNAc  0.140820  0.183320   \n",
      "3                            Fuc(a1-2)Gal(b1-3)GalNAc  1.811925  1.782675   \n",
      "4                       Fuc(a1-?)[HexNAc(?1-?)]GalNAc  0.098392  0.079560   \n",
      "..                                                ...       ...       ...   \n",
      "95  Neu5Ac(a2-?)Gal(?1-?)GlcNAc(b1-3)Gal(b1-4)GlcN...  0.137300  0.125417   \n",
      "96  Neu5Ac(a2-?)HexNAc(?1-?)GlcNAc(b1-2)Man(a1-3)[...  0.510790  0.000000   \n",
      "97  Neu5Ac(a2-?)Gal(?1-?)GlcNAc(b1-2)Man(a1-3)[Neu...  0.005985  0.019840   \n",
      "98  Neu5Ac(a2-?)Gal(?1-?)GlcNAc(b1-3)Gal(?1-?)GlcN...  0.218813  0.000000   \n",
      "99  Fuc(a1-2)Gal(?1-?)GlcNAc(b1-3)Gal(?1-?)GlcNAc(...  0.005644  0.024738   \n",
      "\n",
      "       H0703     H0704     H0706     H0708     H0709     H0710     H1001  \\\n",
      "0   0.223529  0.245893  0.297072  0.180748  0.248927  0.306004  0.270822   \n",
      "1   0.017346  0.004030  0.006302  0.012039  0.005054  0.005923  0.004756   \n",
      "2   0.182716  0.202931  0.160700  0.142861  0.140595  0.169863  0.181096   \n",
      "3   1.249882  1.189128  1.395655  1.654731  1.410926  1.459425  1.015629   \n",
      "4   0.063288  0.047380  0.050811  0.087161  0.076107  0.078545  0.074231   \n",
      "..       ...       ...       ...       ...       ...       ...       ...   \n",
      "95  0.212273  0.172774  0.290563  0.171707  0.161128  0.136903  0.153043   \n",
      "96  0.000000  0.000000  0.476354  0.644741  0.562495  0.527933  0.002343   \n",
      "97  0.000000  0.000000  0.414066  0.122290  0.017085  0.016357  0.000000   \n",
      "98  0.189359  0.000000  0.000000  0.000000  0.213511  0.165189  0.279277   \n",
      "99  0.018615  0.036514  0.000000  0.068677  0.057054  0.000000  0.210897   \n",
      "\n",
      "       H1002     H1003     H1004     H1007     H1008     H1009     H1010  \n",
      "0   0.240446  0.189056  0.236583  0.246200  0.249818  0.214796  0.203260  \n",
      "1   0.033161  0.029960  0.019615  0.301310  0.014480  0.014660  0.016895  \n",
      "2   0.134315  0.156786  0.131543  0.141911  0.148975  0.124810  0.166304  \n",
      "3   1.678676  1.255519  1.490075  2.425317  1.707860  1.611117  1.288564  \n",
      "4   0.066081  0.065791  0.079617  0.068992  0.060207  0.059021  0.087315  \n",
      "..       ...       ...       ...       ...       ...       ...       ...  \n",
      "95  0.017136  0.172082  0.152739  0.235781  0.000000  0.016032  0.199322  \n",
      "96  0.000000  0.000000  0.688642  0.000000  0.310112  0.395042  0.551131  \n",
      "97  0.000000  0.002711  0.020294  0.615505  0.000000  0.000000  0.280082  \n",
      "98  0.000000  0.000000  0.119615  0.018581  0.000000  0.000000  0.000000  \n",
      "99  0.000000  0.000000  0.010321  0.071086  0.000000  0.000000  0.064305  \n",
      "\n",
      "[100 rows x 17 columns]\n"
     ]
    }
   ],
   "source": [
    "print(df_canonicalized_mouse_minimal_sample_col_all)"
   ]
  },
  {
   "cell_type": "raw",
   "id": "2a2aca55-4bc3-466a-bdbf-ef763af22328",
   "metadata": {},
   "source": [
    "print(df_canonicalized_mouse_minimal_glycan_col_all)"
   ]
  },
  {
   "cell_type": "code",
   "execution_count": 6,
   "id": "96c95f92-f9fb-45de-b496-35e91ca3af73",
   "metadata": {},
   "outputs": [
    {
     "name": "stdout",
     "output_type": "stream",
     "text": [
      "       id            Group Cohort\n",
      "0   H0701     ShamInfected    H07\n",
      "1   H0702     ShamInfected    H07\n",
      "2   H0703     ShamInfected    H07\n",
      "3   H0704     ShamInfected    H07\n",
      "4   H0706  HpyloriInfected    H07\n",
      "5   H0708  HpyloriInfected    H07\n",
      "6   H0709  HpyloriInfected    H07\n",
      "7   H0710  HpyloriInfected    H07\n",
      "8   H1001     ShamInfected    H10\n",
      "9   H1002     ShamInfected    H10\n",
      "10  H1003     ShamInfected    H10\n",
      "11  H1004     ShamInfected    H10\n",
      "12  H1007  HpyloriInfected    H10\n",
      "13  H1008  HpyloriInfected    H10\n",
      "14  H1009  HpyloriInfected    H10\n",
      "15  H1010  HpyloriInfected    H10\n"
     ]
    }
   ],
   "source": [
    "print(mouse_sample_metadata_all)"
   ]
  },
  {
   "cell_type": "code",
   "execution_count": 7,
   "id": "36a5363c-e316-4b52-9a99-74f454aa424b",
   "metadata": {},
   "outputs": [],
   "source": [
    "group_list = mouse_sample_metadata_all['Group'].tolist()"
   ]
  },
  {
   "cell_type": "code",
   "execution_count": 8,
   "id": "6d5585ee-3677-47b2-8418-01dde4a4c361",
   "metadata": {},
   "outputs": [
    {
     "name": "stdout",
     "output_type": "stream",
     "text": [
      "['ShamInfected', 'ShamInfected', 'ShamInfected', 'ShamInfected', 'HpyloriInfected', 'HpyloriInfected', 'HpyloriInfected', 'HpyloriInfected', 'ShamInfected', 'ShamInfected', 'ShamInfected', 'ShamInfected', 'HpyloriInfected', 'HpyloriInfected', 'HpyloriInfected', 'HpyloriInfected']\n"
     ]
    }
   ],
   "source": [
    "print(group_list)"
   ]
  },
  {
   "cell_type": "code",
   "execution_count": 9,
   "id": "2b8d1a29-a7ed-4369-8717-0e0dc3df069a",
   "metadata": {},
   "outputs": [],
   "source": [
    "cohort_list = mouse_sample_metadata_all['Cohort'].tolist()"
   ]
  },
  {
   "cell_type": "code",
   "execution_count": 10,
   "id": "0b06a16a-f07a-4137-a29c-737c091d7cdd",
   "metadata": {},
   "outputs": [
    {
     "name": "stdout",
     "output_type": "stream",
     "text": [
      "['H07', 'H07', 'H07', 'H07', 'H07', 'H07', 'H07', 'H07', 'H10', 'H10', 'H10', 'H10', 'H10', 'H10', 'H10', 'H10']\n"
     ]
    }
   ],
   "source": [
    "print(cohort_list)"
   ]
  },
  {
   "cell_type": "code",
   "execution_count": 17,
   "id": "91a0de02-424e-4814-b0bd-78679f757389",
   "metadata": {},
   "outputs": [
    {
     "data": {
      "image/png": "[encoded data removed]",
      "text/plain": [
       "<Figure size 640x480 with 1 Axes>"
      ]
     },
     "metadata": {},
     "output_type": "display_data"
    }
   ],
   "source": [
    "## Mouse PCA\n",
    "# With groups and cohorts\n",
    "get_pca(df = df_canonicalized_mouse_minimal_sample_col_all,\n",
    "       motifs = True,\n",
    "        groups = mouse_sample_metadata_all,\n",
    "        color = 'Group',\n",
    "        shape = 'Cohort',\n",
    "       feature_set = ['terminal1',\n",
    "                      'terminal2',\n",
    "                      'terminal3'],\n",
    "       filepath = '.\\\\Python_output_files\\\\Figures\\\\PCA_Glycans_Groups_And_Cohorts.pdf')"
   ]
  },
  {
   "cell_type": "code",
   "execution_count": 18,
   "id": "a87772e4-54c4-42be-bfa9-b20610ea95cf",
   "metadata": {},
   "outputs": [],
   "source": [
    "# Prepare annotation to be passed to seaborn.\n",
    "df_heatmap_annotation = mouse_sample_metadata_all.set_index('id')"
   ]
  },
  {
   "cell_type": "code",
   "execution_count": 19,
   "id": "1e547c3c-4dfb-453f-b374-f6fd905d28cf",
   "metadata": {},
   "outputs": [],
   "source": [
    "group_to_color = {\n",
    "    'ShamInfected': '#4DC36B', # Green\n",
    "    'HpyloriInfected': '#440C55', # Purple\n",
    "}\n",
    "\n",
    "cohort_to_color = {\n",
    "    'H07': '#E85311', # Orange\n",
    "    'H10': '#15B8E9', # Blue\n",
    "}"
   ]
  },
  {
   "cell_type": "code",
   "execution_count": 20,
   "id": "01a4f2e9-fa01-41a3-ac96-14271c7a720d",
   "metadata": {},
   "outputs": [],
   "source": [
    "col_colors = pd.DataFrame({\n",
    "    'Group': df_heatmap_annotation['Group'].map(group_to_color),\n",
    "    'Cohort': df_heatmap_annotation['Cohort'].map(cohort_to_color)\n",
    "})"
   ]
  },
  {
   "cell_type": "code",
   "execution_count": 21,
   "id": "8daaa025-2b3f-4456-83e7-df87574e11ee",
   "metadata": {},
   "outputs": [],
   "source": [
    "kwargs = {\n",
    "    'col_colors': col_colors\n",
    "}"
   ]
  },
  {
   "cell_type": "code",
   "execution_count": 33,
   "id": "04508fe9-299b-4265-9b9e-1c9b5a050243",
   "metadata": {},
   "outputs": [],
   "source": [
    "# Perform Heatmap\n",
    "# svg\n",
    "get_heatmap(df_canonicalized_mouse_minimal_glycan_col_all, \n",
    "            motifs=True, \n",
    "            feature_set=['terminal1',\n",
    "                         'terminal2',\n",
    "                         'terminal3'], \n",
    "            transform='', \n",
    "            datatype='response', \n",
    "            rarity_filter=0.05, \n",
    "            filepath='.\\\\Python_output_files\\\\Figures\\\\Heatmap_Glycans.svg', \n",
    "            return_plot=False,\n",
    "            yticklabels = 1,\n",
    "            xticklabels = 1,\n",
    "            figsize=(8,11),\n",
    "            **kwargs)\n",
    "\n",
    "# pdf\n",
    "get_heatmap(df_canonicalized_mouse_minimal_glycan_col_all, \n",
    "            motifs=True, \n",
    "            feature_set=['terminal1',\n",
    "                         'terminal2',\n",
    "                         'terminal3'], \n",
    "            transform='', \n",
    "            datatype='response', \n",
    "            rarity_filter=0.05, \n",
    "            filepath='.\\\\Python_output_files\\\\Figures\\\\Heatmap_Glycans.pdf', \n",
    "            return_plot=False,\n",
    "            yticklabels = 1,\n",
    "            xticklabels = 1,\n",
    "            figsize=(8,11),\n",
    "            **kwargs)"
   ]
  },
  {
   "cell_type": "code",
   "execution_count": 34,
   "id": "e05eb59b-999a-4164-bab7-4c908b2383d5",
   "metadata": {
    "tags": []
   },
   "outputs": [],
   "source": [
    "# Annotate heatmap with SNFG figures\n",
    "annotate_figure(svg_input = \".\\\\Python_output_files\\\\Figures\\\\Heatmap_Glycans.svg\",\n",
    "                glycan_size = 'small',\n",
    "                filepath = \".\\\\Python_output_files\\\\Figures\\\\Heatmap_Glycans_Annotated.pdf\",\n",
    "                compact = False)"
   ]
  },
  {
   "cell_type": "code",
   "execution_count": 28,
   "id": "93a51e89-1a79-4cc0-b8c9-3abd7cf73ec0",
   "metadata": {
    "tags": []
   },
   "outputs": [
    {
     "name": "stdout",
     "output_type": "stream",
     "text": [
      "You're working with an alpha of 0.05835541289349022 that has been adjusted for your sample size of 16.\n",
      "                                    Glycan  Mean abundance    Log2FC  \\\n",
      "0     Terminal_GlcNAc(b1-4)Man(b1-4)GlcNAc        0.016670  1.873845   \n",
      "71                   Terminal_Neu5Ac(a2-?)        1.201319  0.213230   \n",
      "21                Terminal_Fuc(a1-6)GlcNAc        0.067854  0.357622   \n",
      "36    Terminal_GalNAc(a1-3)Gal(b1-3)GlcNAc        0.144995 -0.374107   \n",
      "43    Terminal_GalNAc(a1-?)Gal(b1-?)GlcNAc        0.199412 -0.323147   \n",
      "..                                     ...             ...       ...   \n",
      "69          Terminal_HexNAc(?1-?)Gal(b1-?)        1.076925 -0.019008   \n",
      "28       Terminal_Gal(a1-3)Gal(b1-4)GlcNAc        0.088184 -0.018592   \n",
      "38             Terminal_Gal(a1-?)Gal(b1-?)        0.167547  0.017846   \n",
      "2   Terminal_Gal(b1-3)[Neu5Gc(a2-6)]GalNAc        0.003669  0.001634   \n",
      "18       Terminal_Gal(?1-?)GlcNAc(b1-?)Man        0.043450 -0.000462   \n",
      "\n",
      "       p-val  corr p-val  significant  corr Levene p-val  Effect size  \\\n",
      "0   0.095490    0.961794        False           0.992719     0.900163   \n",
      "71  0.115881    0.961794        False           0.992719     0.838612   \n",
      "21  0.123687    0.961794        False           0.992719     0.829440   \n",
      "36  0.177791    0.961794        False           0.992719    -0.709623   \n",
      "43  0.221494    0.961794        False           0.992719    -0.640889   \n",
      "..       ...         ...          ...                ...          ...   \n",
      "69  0.934540    0.961794        False           0.992719    -0.041820   \n",
      "28  0.935923    0.961794        False           0.992719    -0.040929   \n",
      "38  0.941757    0.961794        False           0.992719     0.037208   \n",
      "2   0.996579    0.998225        False           0.992719     0.002185   \n",
      "18  0.998225    0.998225        False           0.992719    -0.001133   \n",
      "\n",
      "    Equivalence p-val  \n",
      "0            0.908406  \n",
      "71           0.898207  \n",
      "21           0.898207  \n",
      "36           0.864321  \n",
      "43           0.838547  \n",
      "..                ...  \n",
      "69           0.749933  \n",
      "28           0.749933  \n",
      "38           0.749933  \n",
      "2            0.749933  \n",
      "18           0.749933  \n",
      "\n",
      "[96 rows x 9 columns]\n"
     ]
    }
   ],
   "source": [
    "# Differential glycomics on motif level\n",
    "differential_glycomics_df = get_differential_expression(df = df_canonicalized_mouse_minimal_sample_col_all,\n",
    "                                                                     group1 = mouse_uninfected_vehicle_sample_names,\n",
    "                                                                     group2 = mouse_infected_vehicle_sample_names,\n",
    "                                                                     motifs = True,\n",
    "                                                                     feature_set = ['terminal1', \n",
    "                                                                                    'terminal2',\n",
    "                                                                                    'terminal3'],\n",
    "                                                                     paired = False,\n",
    "                                                                     min_samples = 0.1)\n",
    "print(differential_glycomics_df)"
   ]
  },
  {
   "cell_type": "code",
   "execution_count": null,
   "id": "c7f3a3b7-2a0b-49f7-872d-a9ad61e79566",
   "metadata": {},
   "outputs": [],
   "source": [
    "differential_glycomics_df.to_excel('.\\\\Python_output_files\\\\Tables\\\\differential_glycomics.xlsx', index=False)"
   ]
  },
  {
   "cell_type": "code",
   "execution_count": null,
   "id": "a8958df6-102b-4868-aaf8-4b333cd5b665",
   "metadata": {
    "tags": []
   },
   "outputs": [],
   "source": [
    "# Differential glycomics volcano plot\n",
    "get_volcano(differential_glycomics_df,\n",
    "           annotate_volcano = True,\n",
    "           filepath = '.\\\\Python_output_files\\\\Figures\\\\Differential_Glycomics_Volcano.svg')"
   ]
  },
  {
   "cell_type": "code",
   "execution_count": null,
   "id": "ecc1d532-ec94-425f-9cce-fd94ac39a021",
   "metadata": {},
   "outputs": [],
   "source": [
    "annotate_figure(svg_input = \".\\\\Python_output_files\\\\Figures\\\\Differential_Glycomics_Volcano.svg\",\n",
    "                glycan_size = 'small',\n",
    "                filepath = \".\\\\Python_output_files\\\\Figures\\\\Differential_Glycomics_Volcano_Annotated.pdf\",\n",
    "                compact = False)"
   ]
  },
  {
   "cell_type": "code",
   "execution_count": 22,
   "id": "f2cf60ee-0359-4b17-bf9f-267bef51f193",
   "metadata": {},
   "outputs": [],
   "source": [
    "# Looking at the heatmap, it seems to be highly fucosylated. Investigate monosackaride distribution and size."
   ]
  },
  {
   "cell_type": "code",
   "execution_count": null,
   "id": "581a27b2-484e-408a-a436-120d257ce013",
   "metadata": {},
   "outputs": [],
   "source": [
    "# Currently easier to do in R, code there for now."
   ]
  }
 ],
 "metadata": {
  "kernelspec": {
   "display_name": "Python 3 (ipykernel)",
   "language": "python",
   "name": "python3"
  },
  "language_info": {
   "codemirror_mode": {
    "name": "ipython",
    "version": 3
   },
   "file_extension": ".py",
   "mimetype": "text/x-python",
   "name": "python",
   "nbconvert_exporter": "python",
   "pygments_lexer": "ipython3",
   "version": "3.12.4"
  }
 },
 "nbformat": 4,
 "nbformat_minor": 5
}
